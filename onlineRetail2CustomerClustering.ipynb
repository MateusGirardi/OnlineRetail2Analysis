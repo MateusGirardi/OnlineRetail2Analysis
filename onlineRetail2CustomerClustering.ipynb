{
 "cells": [
  {
   "cell_type": "markdown",
   "source": [
    "Clusterização de Clientes\n",
    "Objetivo: Descobrir categorias de clientes de acordo com o perfil de consumo."
   ],
   "metadata": {
    "collapsed": false,
    "pycharm": {
     "name": "#%% md\n"
    }
   }
  },
  {
   "cell_type": "code",
   "execution_count": 612,
   "metadata": {
    "collapsed": true,
    "pycharm": {
     "name": "#%%\n"
    }
   },
   "outputs": [],
   "source": [
    "import pandas as pd;\n",
    "from sklearn.cluster import KMeans;\n",
    "from sklearn import preprocessing;\n",
    "import matplotlib.pyplot as plt;\n",
    "from sklearn.decomposition import PCA;\n",
    "import seaborn as sns;"
   ]
  },
  {
   "cell_type": "code",
   "execution_count": 613,
   "outputs": [],
   "source": [
    "df = pd.read_csv(\"archive/online_retail_II.csv\");"
   ],
   "metadata": {
    "collapsed": false,
    "pycharm": {
     "name": "#%%\n"
    }
   }
  },
  {
   "cell_type": "code",
   "execution_count": 614,
   "outputs": [
    {
     "data": {
      "text/plain": "  Invoice StockCode                          Description  Quantity  \\\n0  489434     85048  15CM CHRISTMAS GLASS BALL 20 LIGHTS        12   \n1  489434    79323P                   PINK CHERRY LIGHTS        12   \n2  489434    79323W                  WHITE CHERRY LIGHTS        12   \n3  489434     22041         RECORD FRAME 7\" SINGLE SIZE         48   \n4  489434     21232       STRAWBERRY CERAMIC TRINKET BOX        24   \n5  489434     22064           PINK DOUGHNUT TRINKET POT         24   \n6  489434     21871                  SAVE THE PLANET MUG        24   \n7  489434     21523   FANCY FONT HOME SWEET HOME DOORMAT        10   \n8  489435     22350                            CAT BOWL         12   \n9  489435     22349       DOG BOWL , CHASING BALL DESIGN        12   \n\n           InvoiceDate  Price  Customer ID         Country  \n0  2009-12-01 07:45:00   6.95      13085.0  United Kingdom  \n1  2009-12-01 07:45:00   6.75      13085.0  United Kingdom  \n2  2009-12-01 07:45:00   6.75      13085.0  United Kingdom  \n3  2009-12-01 07:45:00   2.10      13085.0  United Kingdom  \n4  2009-12-01 07:45:00   1.25      13085.0  United Kingdom  \n5  2009-12-01 07:45:00   1.65      13085.0  United Kingdom  \n6  2009-12-01 07:45:00   1.25      13085.0  United Kingdom  \n7  2009-12-01 07:45:00   5.95      13085.0  United Kingdom  \n8  2009-12-01 07:46:00   2.55      13085.0  United Kingdom  \n9  2009-12-01 07:46:00   3.75      13085.0  United Kingdom  ",
      "text/html": "<div>\n<style scoped>\n    .dataframe tbody tr th:only-of-type {\n        vertical-align: middle;\n    }\n\n    .dataframe tbody tr th {\n        vertical-align: top;\n    }\n\n    .dataframe thead th {\n        text-align: right;\n    }\n</style>\n<table border=\"1\" class=\"dataframe\">\n  <thead>\n    <tr style=\"text-align: right;\">\n      <th></th>\n      <th>Invoice</th>\n      <th>StockCode</th>\n      <th>Description</th>\n      <th>Quantity</th>\n      <th>InvoiceDate</th>\n      <th>Price</th>\n      <th>Customer ID</th>\n      <th>Country</th>\n    </tr>\n  </thead>\n  <tbody>\n    <tr>\n      <th>0</th>\n      <td>489434</td>\n      <td>85048</td>\n      <td>15CM CHRISTMAS GLASS BALL 20 LIGHTS</td>\n      <td>12</td>\n      <td>2009-12-01 07:45:00</td>\n      <td>6.95</td>\n      <td>13085.0</td>\n      <td>United Kingdom</td>\n    </tr>\n    <tr>\n      <th>1</th>\n      <td>489434</td>\n      <td>79323P</td>\n      <td>PINK CHERRY LIGHTS</td>\n      <td>12</td>\n      <td>2009-12-01 07:45:00</td>\n      <td>6.75</td>\n      <td>13085.0</td>\n      <td>United Kingdom</td>\n    </tr>\n    <tr>\n      <th>2</th>\n      <td>489434</td>\n      <td>79323W</td>\n      <td>WHITE CHERRY LIGHTS</td>\n      <td>12</td>\n      <td>2009-12-01 07:45:00</td>\n      <td>6.75</td>\n      <td>13085.0</td>\n      <td>United Kingdom</td>\n    </tr>\n    <tr>\n      <th>3</th>\n      <td>489434</td>\n      <td>22041</td>\n      <td>RECORD FRAME 7\" SINGLE SIZE</td>\n      <td>48</td>\n      <td>2009-12-01 07:45:00</td>\n      <td>2.10</td>\n      <td>13085.0</td>\n      <td>United Kingdom</td>\n    </tr>\n    <tr>\n      <th>4</th>\n      <td>489434</td>\n      <td>21232</td>\n      <td>STRAWBERRY CERAMIC TRINKET BOX</td>\n      <td>24</td>\n      <td>2009-12-01 07:45:00</td>\n      <td>1.25</td>\n      <td>13085.0</td>\n      <td>United Kingdom</td>\n    </tr>\n    <tr>\n      <th>5</th>\n      <td>489434</td>\n      <td>22064</td>\n      <td>PINK DOUGHNUT TRINKET POT</td>\n      <td>24</td>\n      <td>2009-12-01 07:45:00</td>\n      <td>1.65</td>\n      <td>13085.0</td>\n      <td>United Kingdom</td>\n    </tr>\n    <tr>\n      <th>6</th>\n      <td>489434</td>\n      <td>21871</td>\n      <td>SAVE THE PLANET MUG</td>\n      <td>24</td>\n      <td>2009-12-01 07:45:00</td>\n      <td>1.25</td>\n      <td>13085.0</td>\n      <td>United Kingdom</td>\n    </tr>\n    <tr>\n      <th>7</th>\n      <td>489434</td>\n      <td>21523</td>\n      <td>FANCY FONT HOME SWEET HOME DOORMAT</td>\n      <td>10</td>\n      <td>2009-12-01 07:45:00</td>\n      <td>5.95</td>\n      <td>13085.0</td>\n      <td>United Kingdom</td>\n    </tr>\n    <tr>\n      <th>8</th>\n      <td>489435</td>\n      <td>22350</td>\n      <td>CAT BOWL</td>\n      <td>12</td>\n      <td>2009-12-01 07:46:00</td>\n      <td>2.55</td>\n      <td>13085.0</td>\n      <td>United Kingdom</td>\n    </tr>\n    <tr>\n      <th>9</th>\n      <td>489435</td>\n      <td>22349</td>\n      <td>DOG BOWL , CHASING BALL DESIGN</td>\n      <td>12</td>\n      <td>2009-12-01 07:46:00</td>\n      <td>3.75</td>\n      <td>13085.0</td>\n      <td>United Kingdom</td>\n    </tr>\n  </tbody>\n</table>\n</div>"
     },
     "execution_count": 614,
     "metadata": {},
     "output_type": "execute_result"
    }
   ],
   "source": [
    "df.head(10)"
   ],
   "metadata": {
    "collapsed": false,
    "pycharm": {
     "name": "#%%\n"
    }
   }
  },
  {
   "cell_type": "code",
   "execution_count": 615,
   "outputs": [
    {
     "data": {
      "text/plain": "Invoice             0\nStockCode           0\nDescription      4382\nQuantity            0\nInvoiceDate         0\nPrice               0\nCustomer ID    243007\nCountry             0\ndtype: int64"
     },
     "execution_count": 615,
     "metadata": {},
     "output_type": "execute_result"
    }
   ],
   "source": [
    "#Verificando valores nulos\n",
    "df.isna().sum()"
   ],
   "metadata": {
    "collapsed": false,
    "pycharm": {
     "name": "#%%\n"
    }
   }
  },
  {
   "cell_type": "code",
   "execution_count": 616,
   "outputs": [],
   "source": [
    "#inplace=True - modifica o dataframe ao invés de criar outro.\n",
    "#Linhas que não possuem \"Customer ID\" serão delatadas, pois, não há tratamento para esse tipo de dado faltante.\n",
    "df.dropna(subset=[\"Customer ID\"],inplace=True);"
   ],
   "metadata": {
    "collapsed": false,
    "pycharm": {
     "name": "#%%\n"
    }
   }
  },
  {
   "cell_type": "code",
   "execution_count": 617,
   "outputs": [
    {
     "data": {
      "text/plain": "Invoice        0\nStockCode      0\nDescription    0\nQuantity       0\nInvoiceDate    0\nPrice          0\nCustomer ID    0\nCountry        0\ndtype: int64"
     },
     "execution_count": 617,
     "metadata": {},
     "output_type": "execute_result"
    }
   ],
   "source": [
    "#Podemos verificar que todas as linhas que possuem a coluna \"Description\" nula também possuiam a coluna \"Customer ID\" nula.\n",
    "df.isna().sum()"
   ],
   "metadata": {
    "collapsed": false,
    "pycharm": {
     "name": "#%%\n"
    }
   }
  },
  {
   "cell_type": "code",
   "execution_count": 618,
   "outputs": [],
   "source": [
    "#Invoices com quantidades negativas indicam que o pedido foi cancelado, elas também possuem a letra C como prefixo na invoice.\n",
    "#Pedidos cancelados não serão contabilizados.\n",
    "df = df[df[\"Quantity\"] > 0];"
   ],
   "metadata": {
    "collapsed": false,
    "pycharm": {
     "name": "#%%\n"
    }
   }
  },
  {
   "cell_type": "code",
   "execution_count": 619,
   "outputs": [
    {
     "data": {
      "text/plain": "  Invoice StockCode                          Description  Quantity  \\\n0  489434     85048  15CM CHRISTMAS GLASS BALL 20 LIGHTS        12   \n1  489434    79323P                   PINK CHERRY LIGHTS        12   \n2  489434    79323W                  WHITE CHERRY LIGHTS        12   \n3  489434     22041         RECORD FRAME 7\" SINGLE SIZE         48   \n4  489434     21232       STRAWBERRY CERAMIC TRINKET BOX        24   \n5  489434     22064           PINK DOUGHNUT TRINKET POT         24   \n6  489434     21871                  SAVE THE PLANET MUG        24   \n7  489434     21523   FANCY FONT HOME SWEET HOME DOORMAT        10   \n8  489435     22350                            CAT BOWL         12   \n9  489435     22349       DOG BOWL , CHASING BALL DESIGN        12   \n\n           InvoiceDate  Price  Customer ID         Country  \n0  2009-12-01 07:45:00   6.95      13085.0  United Kingdom  \n1  2009-12-01 07:45:00   6.75      13085.0  United Kingdom  \n2  2009-12-01 07:45:00   6.75      13085.0  United Kingdom  \n3  2009-12-01 07:45:00   2.10      13085.0  United Kingdom  \n4  2009-12-01 07:45:00   1.25      13085.0  United Kingdom  \n5  2009-12-01 07:45:00   1.65      13085.0  United Kingdom  \n6  2009-12-01 07:45:00   1.25      13085.0  United Kingdom  \n7  2009-12-01 07:45:00   5.95      13085.0  United Kingdom  \n8  2009-12-01 07:46:00   2.55      13085.0  United Kingdom  \n9  2009-12-01 07:46:00   3.75      13085.0  United Kingdom  ",
      "text/html": "<div>\n<style scoped>\n    .dataframe tbody tr th:only-of-type {\n        vertical-align: middle;\n    }\n\n    .dataframe tbody tr th {\n        vertical-align: top;\n    }\n\n    .dataframe thead th {\n        text-align: right;\n    }\n</style>\n<table border=\"1\" class=\"dataframe\">\n  <thead>\n    <tr style=\"text-align: right;\">\n      <th></th>\n      <th>Invoice</th>\n      <th>StockCode</th>\n      <th>Description</th>\n      <th>Quantity</th>\n      <th>InvoiceDate</th>\n      <th>Price</th>\n      <th>Customer ID</th>\n      <th>Country</th>\n    </tr>\n  </thead>\n  <tbody>\n    <tr>\n      <th>0</th>\n      <td>489434</td>\n      <td>85048</td>\n      <td>15CM CHRISTMAS GLASS BALL 20 LIGHTS</td>\n      <td>12</td>\n      <td>2009-12-01 07:45:00</td>\n      <td>6.95</td>\n      <td>13085.0</td>\n      <td>United Kingdom</td>\n    </tr>\n    <tr>\n      <th>1</th>\n      <td>489434</td>\n      <td>79323P</td>\n      <td>PINK CHERRY LIGHTS</td>\n      <td>12</td>\n      <td>2009-12-01 07:45:00</td>\n      <td>6.75</td>\n      <td>13085.0</td>\n      <td>United Kingdom</td>\n    </tr>\n    <tr>\n      <th>2</th>\n      <td>489434</td>\n      <td>79323W</td>\n      <td>WHITE CHERRY LIGHTS</td>\n      <td>12</td>\n      <td>2009-12-01 07:45:00</td>\n      <td>6.75</td>\n      <td>13085.0</td>\n      <td>United Kingdom</td>\n    </tr>\n    <tr>\n      <th>3</th>\n      <td>489434</td>\n      <td>22041</td>\n      <td>RECORD FRAME 7\" SINGLE SIZE</td>\n      <td>48</td>\n      <td>2009-12-01 07:45:00</td>\n      <td>2.10</td>\n      <td>13085.0</td>\n      <td>United Kingdom</td>\n    </tr>\n    <tr>\n      <th>4</th>\n      <td>489434</td>\n      <td>21232</td>\n      <td>STRAWBERRY CERAMIC TRINKET BOX</td>\n      <td>24</td>\n      <td>2009-12-01 07:45:00</td>\n      <td>1.25</td>\n      <td>13085.0</td>\n      <td>United Kingdom</td>\n    </tr>\n    <tr>\n      <th>5</th>\n      <td>489434</td>\n      <td>22064</td>\n      <td>PINK DOUGHNUT TRINKET POT</td>\n      <td>24</td>\n      <td>2009-12-01 07:45:00</td>\n      <td>1.65</td>\n      <td>13085.0</td>\n      <td>United Kingdom</td>\n    </tr>\n    <tr>\n      <th>6</th>\n      <td>489434</td>\n      <td>21871</td>\n      <td>SAVE THE PLANET MUG</td>\n      <td>24</td>\n      <td>2009-12-01 07:45:00</td>\n      <td>1.25</td>\n      <td>13085.0</td>\n      <td>United Kingdom</td>\n    </tr>\n    <tr>\n      <th>7</th>\n      <td>489434</td>\n      <td>21523</td>\n      <td>FANCY FONT HOME SWEET HOME DOORMAT</td>\n      <td>10</td>\n      <td>2009-12-01 07:45:00</td>\n      <td>5.95</td>\n      <td>13085.0</td>\n      <td>United Kingdom</td>\n    </tr>\n    <tr>\n      <th>8</th>\n      <td>489435</td>\n      <td>22350</td>\n      <td>CAT BOWL</td>\n      <td>12</td>\n      <td>2009-12-01 07:46:00</td>\n      <td>2.55</td>\n      <td>13085.0</td>\n      <td>United Kingdom</td>\n    </tr>\n    <tr>\n      <th>9</th>\n      <td>489435</td>\n      <td>22349</td>\n      <td>DOG BOWL , CHASING BALL DESIGN</td>\n      <td>12</td>\n      <td>2009-12-01 07:46:00</td>\n      <td>3.75</td>\n      <td>13085.0</td>\n      <td>United Kingdom</td>\n    </tr>\n  </tbody>\n</table>\n</div>"
     },
     "execution_count": 619,
     "metadata": {},
     "output_type": "execute_result"
    }
   ],
   "source": [
    "df.head(10)"
   ],
   "metadata": {
    "collapsed": false,
    "pycharm": {
     "name": "#%%\n"
    }
   }
  },
  {
   "cell_type": "code",
   "execution_count": 620,
   "outputs": [],
   "source": [
    "#Valor total do item\n",
    "df[\"Value\"] = df[\"Quantity\"] * df[\"Price\"];"
   ],
   "metadata": {
    "collapsed": false,
    "pycharm": {
     "name": "#%%\n"
    }
   }
  },
  {
   "cell_type": "code",
   "execution_count": 621,
   "outputs": [
    {
     "data": {
      "text/plain": "  Invoice StockCode                          Description  Quantity  \\\n0  489434     85048  15CM CHRISTMAS GLASS BALL 20 LIGHTS        12   \n1  489434    79323P                   PINK CHERRY LIGHTS        12   \n2  489434    79323W                  WHITE CHERRY LIGHTS        12   \n3  489434     22041         RECORD FRAME 7\" SINGLE SIZE         48   \n4  489434     21232       STRAWBERRY CERAMIC TRINKET BOX        24   \n5  489434     22064           PINK DOUGHNUT TRINKET POT         24   \n6  489434     21871                  SAVE THE PLANET MUG        24   \n7  489434     21523   FANCY FONT HOME SWEET HOME DOORMAT        10   \n8  489435     22350                            CAT BOWL         12   \n9  489435     22349       DOG BOWL , CHASING BALL DESIGN        12   \n\n           InvoiceDate  Price  Customer ID         Country  Value  \n0  2009-12-01 07:45:00   6.95      13085.0  United Kingdom   83.4  \n1  2009-12-01 07:45:00   6.75      13085.0  United Kingdom   81.0  \n2  2009-12-01 07:45:00   6.75      13085.0  United Kingdom   81.0  \n3  2009-12-01 07:45:00   2.10      13085.0  United Kingdom  100.8  \n4  2009-12-01 07:45:00   1.25      13085.0  United Kingdom   30.0  \n5  2009-12-01 07:45:00   1.65      13085.0  United Kingdom   39.6  \n6  2009-12-01 07:45:00   1.25      13085.0  United Kingdom   30.0  \n7  2009-12-01 07:45:00   5.95      13085.0  United Kingdom   59.5  \n8  2009-12-01 07:46:00   2.55      13085.0  United Kingdom   30.6  \n9  2009-12-01 07:46:00   3.75      13085.0  United Kingdom   45.0  ",
      "text/html": "<div>\n<style scoped>\n    .dataframe tbody tr th:only-of-type {\n        vertical-align: middle;\n    }\n\n    .dataframe tbody tr th {\n        vertical-align: top;\n    }\n\n    .dataframe thead th {\n        text-align: right;\n    }\n</style>\n<table border=\"1\" class=\"dataframe\">\n  <thead>\n    <tr style=\"text-align: right;\">\n      <th></th>\n      <th>Invoice</th>\n      <th>StockCode</th>\n      <th>Description</th>\n      <th>Quantity</th>\n      <th>InvoiceDate</th>\n      <th>Price</th>\n      <th>Customer ID</th>\n      <th>Country</th>\n      <th>Value</th>\n    </tr>\n  </thead>\n  <tbody>\n    <tr>\n      <th>0</th>\n      <td>489434</td>\n      <td>85048</td>\n      <td>15CM CHRISTMAS GLASS BALL 20 LIGHTS</td>\n      <td>12</td>\n      <td>2009-12-01 07:45:00</td>\n      <td>6.95</td>\n      <td>13085.0</td>\n      <td>United Kingdom</td>\n      <td>83.4</td>\n    </tr>\n    <tr>\n      <th>1</th>\n      <td>489434</td>\n      <td>79323P</td>\n      <td>PINK CHERRY LIGHTS</td>\n      <td>12</td>\n      <td>2009-12-01 07:45:00</td>\n      <td>6.75</td>\n      <td>13085.0</td>\n      <td>United Kingdom</td>\n      <td>81.0</td>\n    </tr>\n    <tr>\n      <th>2</th>\n      <td>489434</td>\n      <td>79323W</td>\n      <td>WHITE CHERRY LIGHTS</td>\n      <td>12</td>\n      <td>2009-12-01 07:45:00</td>\n      <td>6.75</td>\n      <td>13085.0</td>\n      <td>United Kingdom</td>\n      <td>81.0</td>\n    </tr>\n    <tr>\n      <th>3</th>\n      <td>489434</td>\n      <td>22041</td>\n      <td>RECORD FRAME 7\" SINGLE SIZE</td>\n      <td>48</td>\n      <td>2009-12-01 07:45:00</td>\n      <td>2.10</td>\n      <td>13085.0</td>\n      <td>United Kingdom</td>\n      <td>100.8</td>\n    </tr>\n    <tr>\n      <th>4</th>\n      <td>489434</td>\n      <td>21232</td>\n      <td>STRAWBERRY CERAMIC TRINKET BOX</td>\n      <td>24</td>\n      <td>2009-12-01 07:45:00</td>\n      <td>1.25</td>\n      <td>13085.0</td>\n      <td>United Kingdom</td>\n      <td>30.0</td>\n    </tr>\n    <tr>\n      <th>5</th>\n      <td>489434</td>\n      <td>22064</td>\n      <td>PINK DOUGHNUT TRINKET POT</td>\n      <td>24</td>\n      <td>2009-12-01 07:45:00</td>\n      <td>1.65</td>\n      <td>13085.0</td>\n      <td>United Kingdom</td>\n      <td>39.6</td>\n    </tr>\n    <tr>\n      <th>6</th>\n      <td>489434</td>\n      <td>21871</td>\n      <td>SAVE THE PLANET MUG</td>\n      <td>24</td>\n      <td>2009-12-01 07:45:00</td>\n      <td>1.25</td>\n      <td>13085.0</td>\n      <td>United Kingdom</td>\n      <td>30.0</td>\n    </tr>\n    <tr>\n      <th>7</th>\n      <td>489434</td>\n      <td>21523</td>\n      <td>FANCY FONT HOME SWEET HOME DOORMAT</td>\n      <td>10</td>\n      <td>2009-12-01 07:45:00</td>\n      <td>5.95</td>\n      <td>13085.0</td>\n      <td>United Kingdom</td>\n      <td>59.5</td>\n    </tr>\n    <tr>\n      <th>8</th>\n      <td>489435</td>\n      <td>22350</td>\n      <td>CAT BOWL</td>\n      <td>12</td>\n      <td>2009-12-01 07:46:00</td>\n      <td>2.55</td>\n      <td>13085.0</td>\n      <td>United Kingdom</td>\n      <td>30.6</td>\n    </tr>\n    <tr>\n      <th>9</th>\n      <td>489435</td>\n      <td>22349</td>\n      <td>DOG BOWL , CHASING BALL DESIGN</td>\n      <td>12</td>\n      <td>2009-12-01 07:46:00</td>\n      <td>3.75</td>\n      <td>13085.0</td>\n      <td>United Kingdom</td>\n      <td>45.0</td>\n    </tr>\n  </tbody>\n</table>\n</div>"
     },
     "execution_count": 621,
     "metadata": {},
     "output_type": "execute_result"
    }
   ],
   "source": [
    "df.head(10)"
   ],
   "metadata": {
    "collapsed": false,
    "pycharm": {
     "name": "#%%\n"
    }
   }
  },
  {
   "cell_type": "code",
   "execution_count": 622,
   "outputs": [],
   "source": [
    "# df.groupby(by=[\"Customer ID\",\"Country\"]).sum(numeric_only=True).reset_index()\n",
    "#Agrupando valores\n",
    "df_customer = df.groupby(by=[\"Customer ID\",\"Country\"]).agg(\n",
    "     Quantity = (\"Quantity\",\"sum\"),\n",
    "     Value = (\"Value\",\"sum\"),\n",
    "     Items = (\"Invoice\",\"count\"),\n",
    "     Invoices = (\"Invoice\",\"nunique\"),\n",
    "     Product = (\"StockCode\", \"nunique\"),\n",
    "     ).reset_index();"
   ],
   "metadata": {
    "collapsed": false,
    "pycharm": {
     "name": "#%%\n"
    }
   }
  },
  {
   "cell_type": "code",
   "execution_count": 623,
   "outputs": [],
   "source": [
    "#Criando as features que serão analisadas pelo KMeans\n",
    "df_customer[\"Avarage_Quantity\"] = df_customer[\"Quantity\"] / df_customer[\"Product\"]\n",
    "df_customer[\"Avarage_Value\"] = df_customer[\"Value\"] / df_customer[\"Invoices\"]\n",
    "df_customer[\"Avarage_Items\"] = df_customer[\"Items\"] / df_customer[\"Invoices\"]\n",
    "df_customer[\"Avarage_Products\"] = df_customer[\"Product\"] / df_customer[\"Invoices\"]"
   ],
   "metadata": {
    "collapsed": false,
    "pycharm": {
     "name": "#%%\n"
    }
   }
  },
  {
   "cell_type": "code",
   "execution_count": 624,
   "outputs": [],
   "source": [
    "#Convertendo o campo Country de texto para inteiro, dessa forma ele pode ser utilizado no KMeans\n",
    "le = preprocessing.LabelEncoder();\n",
    "le.fit(df_customer[\"Country\"]);\n",
    "df_customer[\"NCountry\"] = le.transform(df_customer[\"Country\"]);"
   ],
   "metadata": {
    "collapsed": false,
    "pycharm": {
     "name": "#%%\n"
    }
   }
  },
  {
   "cell_type": "code",
   "execution_count": 625,
   "outputs": [],
   "source": [
    "#Excluindo colunas desnecessárias\n",
    "df_customer.drop([\"Customer ID\",\"Country\",\"Quantity\",\"Value\",\"Items\",\"Invoices\",\"Product\"],axis=1,inplace=True)"
   ],
   "metadata": {
    "collapsed": false,
    "pycharm": {
     "name": "#%%\n"
    }
   }
  },
  {
   "cell_type": "code",
   "execution_count": 626,
   "outputs": [
    {
     "data": {
      "text/plain": "      Avarage_Quantity  Avarage_Value  Avarage_Items  Avarage_Products  \\\n0          2751.296296    6463.038333       2.833333          2.250000   \n1            26.079365     704.165000      31.625000         15.750000   \n2           108.560000     403.880000      10.200000          5.000000   \n3            11.768116    1107.172500      43.750000         34.500000   \n4            11.588235     334.400000      17.000000         17.000000   \n...                ...            ...            ...               ...   \n5889          4.923295     124.393182      44.818182         16.000000   \n5890         17.642857     461.680000      28.000000         28.000000   \n5891         12.083333     427.000000      12.000000         12.000000   \n5892          9.074627     648.215000      33.500000         33.500000   \n5893         25.108333     597.570000      22.142857         17.142857   \n\n      NCountry  \n0           38  \n1           16  \n2           12  \n3           18  \n4           26  \n...        ...  \n5889        38  \n5890        38  \n5891        38  \n5892        38  \n5893        38  \n\n[5894 rows x 5 columns]",
      "text/html": "<div>\n<style scoped>\n    .dataframe tbody tr th:only-of-type {\n        vertical-align: middle;\n    }\n\n    .dataframe tbody tr th {\n        vertical-align: top;\n    }\n\n    .dataframe thead th {\n        text-align: right;\n    }\n</style>\n<table border=\"1\" class=\"dataframe\">\n  <thead>\n    <tr style=\"text-align: right;\">\n      <th></th>\n      <th>Avarage_Quantity</th>\n      <th>Avarage_Value</th>\n      <th>Avarage_Items</th>\n      <th>Avarage_Products</th>\n      <th>NCountry</th>\n    </tr>\n  </thead>\n  <tbody>\n    <tr>\n      <th>0</th>\n      <td>2751.296296</td>\n      <td>6463.038333</td>\n      <td>2.833333</td>\n      <td>2.250000</td>\n      <td>38</td>\n    </tr>\n    <tr>\n      <th>1</th>\n      <td>26.079365</td>\n      <td>704.165000</td>\n      <td>31.625000</td>\n      <td>15.750000</td>\n      <td>16</td>\n    </tr>\n    <tr>\n      <th>2</th>\n      <td>108.560000</td>\n      <td>403.880000</td>\n      <td>10.200000</td>\n      <td>5.000000</td>\n      <td>12</td>\n    </tr>\n    <tr>\n      <th>3</th>\n      <td>11.768116</td>\n      <td>1107.172500</td>\n      <td>43.750000</td>\n      <td>34.500000</td>\n      <td>18</td>\n    </tr>\n    <tr>\n      <th>4</th>\n      <td>11.588235</td>\n      <td>334.400000</td>\n      <td>17.000000</td>\n      <td>17.000000</td>\n      <td>26</td>\n    </tr>\n    <tr>\n      <th>...</th>\n      <td>...</td>\n      <td>...</td>\n      <td>...</td>\n      <td>...</td>\n      <td>...</td>\n    </tr>\n    <tr>\n      <th>5889</th>\n      <td>4.923295</td>\n      <td>124.393182</td>\n      <td>44.818182</td>\n      <td>16.000000</td>\n      <td>38</td>\n    </tr>\n    <tr>\n      <th>5890</th>\n      <td>17.642857</td>\n      <td>461.680000</td>\n      <td>28.000000</td>\n      <td>28.000000</td>\n      <td>38</td>\n    </tr>\n    <tr>\n      <th>5891</th>\n      <td>12.083333</td>\n      <td>427.000000</td>\n      <td>12.000000</td>\n      <td>12.000000</td>\n      <td>38</td>\n    </tr>\n    <tr>\n      <th>5892</th>\n      <td>9.074627</td>\n      <td>648.215000</td>\n      <td>33.500000</td>\n      <td>33.500000</td>\n      <td>38</td>\n    </tr>\n    <tr>\n      <th>5893</th>\n      <td>25.108333</td>\n      <td>597.570000</td>\n      <td>22.142857</td>\n      <td>17.142857</td>\n      <td>38</td>\n    </tr>\n  </tbody>\n</table>\n<p>5894 rows × 5 columns</p>\n</div>"
     },
     "execution_count": 626,
     "metadata": {},
     "output_type": "execute_result"
    }
   ],
   "source": [
    "df_customer"
   ],
   "metadata": {
    "collapsed": false,
    "pycharm": {
     "name": "#%%\n"
    }
   }
  },
  {
   "cell_type": "code",
   "execution_count": 627,
   "outputs": [
    {
     "name": "stderr",
     "output_type": "stream",
     "text": [
      "D:\\OneDrive\\Pós Graduação\\1º Semestre\\Machine Learning\\Exercícios\\Trabalho Final\\venv\\Lib\\site-packages\\sklearn\\cluster\\_kmeans.py:870: FutureWarning: The default value of `n_init` will change from 10 to 'auto' in 1.4. Set the value of `n_init` explicitly to suppress the warning\n",
      "  warnings.warn(\n",
      "D:\\OneDrive\\Pós Graduação\\1º Semestre\\Machine Learning\\Exercícios\\Trabalho Final\\venv\\Lib\\site-packages\\sklearn\\cluster\\_kmeans.py:870: FutureWarning: The default value of `n_init` will change from 10 to 'auto' in 1.4. Set the value of `n_init` explicitly to suppress the warning\n",
      "  warnings.warn(\n",
      "D:\\OneDrive\\Pós Graduação\\1º Semestre\\Machine Learning\\Exercícios\\Trabalho Final\\venv\\Lib\\site-packages\\sklearn\\cluster\\_kmeans.py:870: FutureWarning: The default value of `n_init` will change from 10 to 'auto' in 1.4. Set the value of `n_init` explicitly to suppress the warning\n",
      "  warnings.warn(\n",
      "D:\\OneDrive\\Pós Graduação\\1º Semestre\\Machine Learning\\Exercícios\\Trabalho Final\\venv\\Lib\\site-packages\\sklearn\\cluster\\_kmeans.py:870: FutureWarning: The default value of `n_init` will change from 10 to 'auto' in 1.4. Set the value of `n_init` explicitly to suppress the warning\n",
      "  warnings.warn(\n",
      "D:\\OneDrive\\Pós Graduação\\1º Semestre\\Machine Learning\\Exercícios\\Trabalho Final\\venv\\Lib\\site-packages\\sklearn\\cluster\\_kmeans.py:870: FutureWarning: The default value of `n_init` will change from 10 to 'auto' in 1.4. Set the value of `n_init` explicitly to suppress the warning\n",
      "  warnings.warn(\n",
      "D:\\OneDrive\\Pós Graduação\\1º Semestre\\Machine Learning\\Exercícios\\Trabalho Final\\venv\\Lib\\site-packages\\sklearn\\cluster\\_kmeans.py:870: FutureWarning: The default value of `n_init` will change from 10 to 'auto' in 1.4. Set the value of `n_init` explicitly to suppress the warning\n",
      "  warnings.warn(\n",
      "D:\\OneDrive\\Pós Graduação\\1º Semestre\\Machine Learning\\Exercícios\\Trabalho Final\\venv\\Lib\\site-packages\\sklearn\\cluster\\_kmeans.py:870: FutureWarning: The default value of `n_init` will change from 10 to 'auto' in 1.4. Set the value of `n_init` explicitly to suppress the warning\n",
      "  warnings.warn(\n",
      "D:\\OneDrive\\Pós Graduação\\1º Semestre\\Machine Learning\\Exercícios\\Trabalho Final\\venv\\Lib\\site-packages\\sklearn\\cluster\\_kmeans.py:870: FutureWarning: The default value of `n_init` will change from 10 to 'auto' in 1.4. Set the value of `n_init` explicitly to suppress the warning\n",
      "  warnings.warn(\n",
      "D:\\OneDrive\\Pós Graduação\\1º Semestre\\Machine Learning\\Exercícios\\Trabalho Final\\venv\\Lib\\site-packages\\sklearn\\cluster\\_kmeans.py:870: FutureWarning: The default value of `n_init` will change from 10 to 'auto' in 1.4. Set the value of `n_init` explicitly to suppress the warning\n",
      "  warnings.warn(\n",
      "D:\\OneDrive\\Pós Graduação\\1º Semestre\\Machine Learning\\Exercícios\\Trabalho Final\\venv\\Lib\\site-packages\\sklearn\\cluster\\_kmeans.py:870: FutureWarning: The default value of `n_init` will change from 10 to 'auto' in 1.4. Set the value of `n_init` explicitly to suppress the warning\n",
      "  warnings.warn(\n"
     ]
    }
   ],
   "source": [
    "#Calculando vários KMeans\n",
    "inertias = []\n",
    "\n",
    "for i in range(1,11):\n",
    "    kmeans = KMeans(n_clusters=i)\n",
    "    kmeans.fit(df_customer)\n",
    "    inertias.append(kmeans.inertia_)"
   ],
   "metadata": {
    "collapsed": false,
    "pycharm": {
     "name": "#%%\n"
    }
   }
  },
  {
   "cell_type": "code",
   "execution_count": 628,
   "outputs": [
    {
     "data": {
      "text/plain": "<Figure size 640x480 with 1 Axes>",
      "image/png": "[encoded data removed]"
     },
     "metadata": {},
     "output_type": "display_data"
    }
   ],
   "source": [
    "#Verificando melhor quantidade de clusters\n",
    "plt.plot(range(1,11), inertias, marker='o')\n",
    "plt.title('Clusters x Inércia')\n",
    "plt.xlabel('Clusters')\n",
    "plt.ylabel('Inércia')\n",
    "plt.show()"
   ],
   "metadata": {
    "collapsed": false,
    "pycharm": {
     "name": "#%%\n"
    }
   }
  },
  {
   "cell_type": "code",
   "execution_count": 629,
   "outputs": [],
   "source": [
    "#Calculando KMeans com 5 clusters\n",
    "kmeans = KMeans(n_clusters=5)"
   ],
   "metadata": {
    "collapsed": false,
    "pycharm": {
     "name": "#%%\n"
    }
   }
  },
  {
   "cell_type": "code",
   "execution_count": 630,
   "outputs": [
    {
     "name": "stderr",
     "output_type": "stream",
     "text": [
      "D:\\OneDrive\\Pós Graduação\\1º Semestre\\Machine Learning\\Exercícios\\Trabalho Final\\venv\\Lib\\site-packages\\sklearn\\cluster\\_kmeans.py:870: FutureWarning: The default value of `n_init` will change from 10 to 'auto' in 1.4. Set the value of `n_init` explicitly to suppress the warning\n",
      "  warnings.warn(\n"
     ]
    }
   ],
   "source": [
    "y = kmeans.fit_predict(df_customer)"
   ],
   "metadata": {
    "collapsed": false,
    "pycharm": {
     "name": "#%%\n"
    }
   }
  },
  {
   "cell_type": "code",
   "execution_count": 631,
   "outputs": [],
   "source": [
    "#Atribuindo cluster calculado\n",
    "df_customer[\"Cluster\"] = y"
   ],
   "metadata": {
    "collapsed": false,
    "pycharm": {
     "name": "#%%\n"
    }
   }
  },
  {
   "cell_type": "code",
   "execution_count": 632,
   "outputs": [
    {
     "data": {
      "text/plain": "      Avarage_Quantity  Avarage_Value  Avarage_Items  Avarage_Products  \\\n0          2751.296296    6463.038333       2.833333          2.250000   \n1            26.079365     704.165000      31.625000         15.750000   \n2           108.560000     403.880000      10.200000          5.000000   \n3            11.768116    1107.172500      43.750000         34.500000   \n4            11.588235     334.400000      17.000000         17.000000   \n...                ...            ...            ...               ...   \n5889          4.923295     124.393182      44.818182         16.000000   \n5890         17.642857     461.680000      28.000000         28.000000   \n5891         12.083333     427.000000      12.000000         12.000000   \n5892          9.074627     648.215000      33.500000         33.500000   \n5893         25.108333     597.570000      22.142857         17.142857   \n\n      NCountry  Cluster  \n0           38        2  \n1           16        0  \n2           12        0  \n3           18        3  \n4           26        0  \n...        ...      ...  \n5889        38        0  \n5890        38        0  \n5891        38        0  \n5892        38        0  \n5893        38        0  \n\n[5894 rows x 6 columns]",
      "text/html": "<div>\n<style scoped>\n    .dataframe tbody tr th:only-of-type {\n        vertical-align: middle;\n    }\n\n    .dataframe tbody tr th {\n        vertical-align: top;\n    }\n\n    .dataframe thead th {\n        text-align: right;\n    }\n</style>\n<table border=\"1\" class=\"dataframe\">\n  <thead>\n    <tr style=\"text-align: right;\">\n      <th></th>\n      <th>Avarage_Quantity</th>\n      <th>Avarage_Value</th>\n      <th>Avarage_Items</th>\n      <th>Avarage_Products</th>\n      <th>NCountry</th>\n      <th>Cluster</th>\n    </tr>\n  </thead>\n  <tbody>\n    <tr>\n      <th>0</th>\n      <td>2751.296296</td>\n      <td>6463.038333</td>\n      <td>2.833333</td>\n      <td>2.250000</td>\n      <td>38</td>\n      <td>2</td>\n    </tr>\n    <tr>\n      <th>1</th>\n      <td>26.079365</td>\n      <td>704.165000</td>\n      <td>31.625000</td>\n      <td>15.750000</td>\n      <td>16</td>\n      <td>0</td>\n    </tr>\n    <tr>\n      <th>2</th>\n      <td>108.560000</td>\n      <td>403.880000</td>\n      <td>10.200000</td>\n      <td>5.000000</td>\n      <td>12</td>\n      <td>0</td>\n    </tr>\n    <tr>\n      <th>3</th>\n      <td>11.768116</td>\n      <td>1107.172500</td>\n      <td>43.750000</td>\n      <td>34.500000</td>\n      <td>18</td>\n      <td>3</td>\n    </tr>\n    <tr>\n      <th>4</th>\n      <td>11.588235</td>\n      <td>334.400000</td>\n      <td>17.000000</td>\n      <td>17.000000</td>\n      <td>26</td>\n      <td>0</td>\n    </tr>\n    <tr>\n      <th>...</th>\n      <td>...</td>\n      <td>...</td>\n      <td>...</td>\n      <td>...</td>\n      <td>...</td>\n      <td>...</td>\n    </tr>\n    <tr>\n      <th>5889</th>\n      <td>4.923295</td>\n      <td>124.393182</td>\n      <td>44.818182</td>\n      <td>16.000000</td>\n      <td>38</td>\n      <td>0</td>\n    </tr>\n    <tr>\n      <th>5890</th>\n      <td>17.642857</td>\n      <td>461.680000</td>\n      <td>28.000000</td>\n      <td>28.000000</td>\n      <td>38</td>\n      <td>0</td>\n    </tr>\n    <tr>\n      <th>5891</th>\n      <td>12.083333</td>\n      <td>427.000000</td>\n      <td>12.000000</td>\n      <td>12.000000</td>\n      <td>38</td>\n      <td>0</td>\n    </tr>\n    <tr>\n      <th>5892</th>\n      <td>9.074627</td>\n      <td>648.215000</td>\n      <td>33.500000</td>\n      <td>33.500000</td>\n      <td>38</td>\n      <td>0</td>\n    </tr>\n    <tr>\n      <th>5893</th>\n      <td>25.108333</td>\n      <td>597.570000</td>\n      <td>22.142857</td>\n      <td>17.142857</td>\n      <td>38</td>\n      <td>0</td>\n    </tr>\n  </tbody>\n</table>\n<p>5894 rows × 6 columns</p>\n</div>"
     },
     "execution_count": 632,
     "metadata": {},
     "output_type": "execute_result"
    }
   ],
   "source": [
    "df_customer"
   ],
   "metadata": {
    "collapsed": false,
    "pycharm": {
     "name": "#%%\n"
    }
   }
  },
  {
   "cell_type": "code",
   "execution_count": 633,
   "outputs": [],
   "source": [
    "#Convertendo KMeans para duas dimensões, de uma forma que pode ser visualizado\n",
    "pca_num_components = 2;\n",
    "\n",
    "reduced_data = PCA(n_components=pca_num_components).fit_transform(df_customer);\n",
    "results = pd.DataFrame(reduced_data,columns=[\"PCA1\",\"PCA2\"]);"
   ],
   "metadata": {
    "collapsed": false,
    "pycharm": {
     "name": "#%%\n"
    }
   }
  },
  {
   "cell_type": "code",
   "execution_count": 634,
   "outputs": [
    {
     "data": {
      "text/plain": "<Figure size 640x480 with 1 Axes>",
      "image/png": "[encoded data removed]"
     },
     "metadata": {},
     "output_type": "display_data"
    }
   ],
   "source": [
    "sns.scatterplot(x=\"PCA1\", y=\"PCA2\", hue=df_customer[\"Cluster\"], data=results);\n",
    "plt.title(\"Clusters clientes K-means em 2 dimensões\");\n",
    "plt.show()"
   ],
   "metadata": {
    "collapsed": false,
    "pycharm": {
     "name": "#%%\n"
    }
   }
  },
  {
   "cell_type": "code",
   "execution_count": 635,
   "outputs": [
    {
     "data": {
      "text/plain": "Cluster\n1       1\n4       4\n2       9\n3     268\n0    5612\nName: Cluster, dtype: int64"
     },
     "execution_count": 635,
     "metadata": {},
     "output_type": "execute_result"
    }
   ],
   "source": [
    "#Quantidade de clientes por cluster\n",
    "df_customer.groupby(df_customer[\"Cluster\"])[\"Cluster\"].count().sort_values()"
   ],
   "metadata": {
    "collapsed": false,
    "pycharm": {
     "name": "#%%\n"
    }
   }
  },
  {
   "cell_type": "code",
   "execution_count": 645,
   "outputs": [
    {
     "data": {
      "text/plain": "Cluster\n1     1\n4     1\n2     4\n3    33\n0    37\nName: NCountry, dtype: int64"
     },
     "execution_count": 645,
     "metadata": {},
     "output_type": "execute_result"
    }
   ],
   "source": [
    "#Países por grupo\n",
    "df_customer.groupby(df_customer[\"Cluster\"])[\"NCountry\"].nunique().sort_values()"
   ],
   "metadata": {
    "collapsed": false,
    "pycharm": {
     "name": "#%%\n"
    }
   }
  },
  {
   "cell_type": "code",
   "execution_count": 646,
   "outputs": [
    {
     "data": {
      "text/plain": "Cluster\n2     13357.001564\n1     26999.000000\n4     42474.285714\n3     44535.241138\n0    130893.705320\nName: Avarage_Quantity, dtype: float64"
     },
     "execution_count": 646,
     "metadata": {},
     "output_type": "execute_result"
    }
   ],
   "source": [
    "#Quantidade média por produto\n",
    "df_customer.groupby(df_customer[\"Cluster\"])[\"Avarage_Quantity\"].sum().sort_values()"
   ],
   "metadata": {
    "collapsed": false,
    "pycharm": {
     "name": "#%%\n"
    }
   }
  },
  {
   "cell_type": "code",
   "execution_count": 651,
   "outputs": [
    {
     "data": {
      "text/plain": "Cluster\n4    3.543382e+03\n1    8.423625e+04\n2    8.819793e+04\n3    4.155908e+05\n0    1.716515e+06\nName: Avarage_Value, dtype: float64"
     },
     "execution_count": 651,
     "metadata": {},
     "output_type": "execute_result"
    }
   ],
   "source": [
    "#Valor médio por pedido\n",
    "df_customer.groupby(df_customer[\"Cluster\"])[\"Avarage_Value\"].sum().sort_values()"
   ],
   "metadata": {
    "collapsed": false,
    "pycharm": {
     "name": "#%%\n"
    }
   }
  },
  {
   "cell_type": "code",
   "execution_count": 648,
   "outputs": [
    {
     "data": {
      "text/plain": "Cluster\n1         1.500000\n4         8.776316\n2       181.433333\n3     10852.379387\n0    119265.406187\nName: Avarage_Items, dtype: float64"
     },
     "execution_count": 648,
     "metadata": {},
     "output_type": "execute_result"
    }
   ],
   "source": [
    "#Quantidade média de itens por pedido\n",
    "df_customer.groupby(df_customer[\"Cluster\"])[\"Avarage_Items\"].sum().sort_values()"
   ],
   "metadata": {
    "collapsed": false,
    "pycharm": {
     "name": "#%%\n"
    }
   }
  },
  {
   "cell_type": "code",
   "execution_count": 650,
   "outputs": [
    {
     "data": {
      "text/plain": "Cluster\n1        1.500000\n4        2.198778\n2      165.350000\n3     8743.317236\n0    95193.824851\nName: Avarage_Products, dtype: float64"
     },
     "execution_count": 650,
     "metadata": {},
     "output_type": "execute_result"
    }
   ],
   "source": [
    "#Quantidade média de produtos distintos por pedido\n",
    "df_customer.groupby(df_customer[\"Cluster\"])[\"Avarage_Products\"].sum().sort_values()"
   ],
   "metadata": {
    "collapsed": false,
    "pycharm": {
     "name": "#%%\n"
    }
   }
  },
  {
   "cell_type": "code",
   "execution_count": null,
   "outputs": [],
   "source": [],
   "metadata": {
    "collapsed": false,
    "pycharm": {
     "name": "#%%\n"
    }
   }
  },
  {
   "cell_type": "code",
   "execution_count": null,
   "outputs": [],
   "source": [],
   "metadata": {
    "collapsed": false,
    "pycharm": {
     "name": "#%%\n"
    }
   }
  }
 ],
 "metadata": {
  "kernelspec": {
   "display_name": "Python 3",
   "language": "python",
   "name": "python3"
  },
  "language_info": {
   "codemirror_mode": {
    "name": "ipython",
    "version": 2
   },
   "file_extension": ".py",
   "mimetype": "text/x-python",
   "name": "python",
   "nbconvert_exporter": "python",
   "pygments_lexer": "ipython2",
   "version": "2.7.6"
  }
 },
 "nbformat": 4,
 "nbformat_minor": 0
}